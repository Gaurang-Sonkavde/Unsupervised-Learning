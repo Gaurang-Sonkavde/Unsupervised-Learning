{
 "cells": [
  {
   "cell_type": "markdown",
   "metadata": {},
   "source": [
    "## Name - Gaurang Vivek Sonkavde\n",
    "\n",
    "## Class - M.Tech AI-ML\n",
    "\n",
    "## PRN Number - 21070149023 \n",
    "\n",
    "## Subject - Unsupervised Learning"
   ]
  },
  {
   "cell_type": "markdown",
   "metadata": {},
   "source": [
    "# 2) Apply the libraries of Pandas and numpy for Various Programs\n",
    "\n",
    "# Matrix Programs"
   ]
  },
  {
   "cell_type": "markdown",
   "metadata": {},
   "source": [
    "### Write a program for Matrix Addition"
   ]
  },
  {
   "cell_type": "code",
   "execution_count": 1,
   "metadata": {},
   "outputs": [],
   "source": [
    "import numpy as np"
   ]
  },
  {
   "cell_type": "code",
   "execution_count": 6,
   "metadata": {},
   "outputs": [
    {
     "name": "stdout",
     "output_type": "stream",
     "text": [
      "a1: \n",
      " [[10 25 32]\n",
      " [26 15 11]] \n",
      "\n",
      "a2: \n",
      " [[ 3  4  5]\n",
      " [16 12 22]] \n",
      "\n",
      "After Addition : \n",
      " [[13 29 37]\n",
      " [42 27 33]]\n"
     ]
    }
   ],
   "source": [
    "a1 = np.array([[10,25,32], [26,15,11]])\n",
    "a2 = np.array([[3,4,5], [16,12,22]])\n",
    "\n",
    "print(\"a1: \\n\", a1, '\\n')\n",
    "print(\"a2: \\n\", a2, '\\n')\n",
    "      \n",
    "b = np.add(a1,a2)\n",
    "print(\"After Addition : \\n\", b)"
   ]
  },
  {
   "cell_type": "markdown",
   "metadata": {},
   "source": [
    "### Matrix Addition and Substraction Program"
   ]
  },
  {
   "cell_type": "code",
   "execution_count": 13,
   "metadata": {},
   "outputs": [
    {
     "name": "stdout",
     "output_type": "stream",
     "text": [
      "Complex Number 1 :  (6+4j)\n",
      "Complex Number 2 :  (7+3j)\n",
      "Addition of Complex Number : (13+7j)\n"
     ]
    }
   ],
   "source": [
    "#Addition of Complex Number\n",
    "\n",
    "c1 = complex(6, 4)\n",
    "c2 = complex(7, 3)\n",
    "print(\"Complex Number 1 : \",c1)\n",
    "print(\"Complex Number 2 : \",c2)\n",
    "\n",
    "c3 = np.add(c1,c2)\n",
    "print(\"Addition of Complex Number :\",c3)"
   ]
  },
  {
   "cell_type": "code",
   "execution_count": 12,
   "metadata": {},
   "outputs": [
    {
     "name": "stdout",
     "output_type": "stream",
     "text": [
      "Complex Number 1 :  (7+9j)\n",
      "Complex Number 2 :  (3+5j)\n",
      "Substraction of Complex Number :  (4+4j)\n"
     ]
    }
   ],
   "source": [
    "# Substarction of Complex Number\n",
    "\n",
    "c1 = complex(7, 9)\n",
    "c2 = complex(3, 5)\n",
    "print(\"Complex Number 1 : \",c1)\n",
    "print(\"Complex Number 2 : \",c2)\n",
    "\n",
    "c3 = np.subtract(c1,c2)\n",
    "print(\"Substraction of Complex Number : \",c3)\n"
   ]
  },
  {
   "cell_type": "markdown",
   "metadata": {},
   "source": [
    "### Matrix Multiplication Program"
   ]
  },
  {
   "cell_type": "code",
   "execution_count": 14,
   "metadata": {},
   "outputs": [
    {
     "name": "stdout",
     "output_type": "stream",
     "text": [
      "a1: \n",
      " [[5 4]\n",
      " [5 9]] \n",
      "\n",
      "a2: \n",
      " [[6 2]\n",
      " [2 6]] \n",
      "\n",
      "After multiplication : \n",
      " [[38 34]\n",
      " [48 64]]\n"
     ]
    }
   ],
   "source": [
    "a1 = np.array([[5,4], [5,9]])\n",
    "a2 = np.array([[6,2], [2,6]])\n",
    "\n",
    "print(\"a1: \\n\", a1, '\\n')\n",
    "print(\"a2: \\n\", a2, '\\n')\n",
    "      \n",
    "b = np.matmul(a1,a2)\n",
    "print(\"After multiplication : \\n\", b)"
   ]
  },
  {
   "cell_type": "code",
   "execution_count": null,
   "metadata": {},
   "outputs": [],
   "source": []
  }
 ],
 "metadata": {
  "kernelspec": {
   "display_name": "Python 3",
   "language": "python",
   "name": "python3"
  },
  "language_info": {
   "codemirror_mode": {
    "name": "ipython",
    "version": 3
   },
   "file_extension": ".py",
   "mimetype": "text/x-python",
   "name": "python",
   "nbconvert_exporter": "python",
   "pygments_lexer": "ipython3",
   "version": "3.8.5"
  }
 },
 "nbformat": 4,
 "nbformat_minor": 4
}
