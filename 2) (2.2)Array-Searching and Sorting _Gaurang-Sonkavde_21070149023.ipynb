{
 "cells": [
  {
   "cell_type": "markdown",
   "metadata": {},
   "source": [
    "## Name - Gaurang Vivek Sonkavde\n",
    "\n",
    "## Class - M.Tech AI-ML\n",
    "\n",
    "## PRN Number - 21070149023 \n",
    "\n",
    "## Subject - Unsupervised Learning"
   ]
  },
  {
   "cell_type": "markdown",
   "metadata": {},
   "source": [
    "# 2.2 ) Array Searching and Sorting"
   ]
  },
  {
   "cell_type": "markdown",
   "metadata": {},
   "source": [
    "### Import Library"
   ]
  },
  {
   "cell_type": "code",
   "execution_count": 1,
   "metadata": {},
   "outputs": [],
   "source": [
    "import numpy as np"
   ]
  },
  {
   "cell_type": "markdown",
   "metadata": {},
   "source": [
    "### Sort along first and last Axis"
   ]
  },
  {
   "cell_type": "code",
   "execution_count": 3,
   "metadata": {},
   "outputs": [
    {
     "name": "stdout",
     "output_type": "stream",
     "text": [
      "Along first axis : \n",
      " [[14  5]\n",
      " [15 10]]\n",
      "\n",
      "Along first axis : \n",
      " [[10 15]\n",
      " [ 5 12]]\n",
      "\n",
      "Along none axis : \n",
      " [ 5 10 14 15]\n"
     ]
    }
   ],
   "source": [
    "\n",
    "# sort along the first axis\n",
    "a = np.array([[15, 10], [14, 5]])\n",
    "arr1 = np.sort(a, axis = 0)        \n",
    "print (\"Along first axis : \\n\", arr1)        \n",
    " \n",
    " \n",
    "# sort along the last axis\n",
    "a = np.array([[10, 15], [12, 5]])\n",
    "arr2 = np.sort(a, axis = -1)        \n",
    "print (\"\\nAlong first axis : \\n\", arr2)\n",
    " \n",
    "#Sort along none Axis\n",
    "a = np.array([[15, 10], [14, 5]])\n",
    "arr1 = np.sort(a, axis = None)        \n",
    "print (\"\\nAlong none axis : \\n\", arr1)"
   ]
  },
  {
   "cell_type": "code",
   "execution_count": 5,
   "metadata": {},
   "outputs": [
    {
     "name": "stdout",
     "output_type": "stream",
     "text": [
      "Number of nonzero values is : 6\n",
      "Number of nonzero values is : [2 2 1 0 1]\n"
     ]
    }
   ],
   "source": [
    "# Counting a number of \n",
    "# non-zero values\n",
    "a = np.count_nonzero([[0,8,0,4,0],[3,4,0,2,15]])\n",
    "b = np.count_nonzero([[4,8,7,0,0],[3,4,0,0,45]], axis=0)\n",
    "\n",
    "print(\"Number of nonzero values is :\",a)\n",
    "print(\"Number of nonzero values is :\",b)"
   ]
  },
  {
   "cell_type": "code",
   "execution_count": null,
   "metadata": {},
   "outputs": [],
   "source": []
  }
 ],
 "metadata": {
  "kernelspec": {
   "display_name": "Python 3",
   "language": "python",
   "name": "python3"
  },
  "language_info": {
   "codemirror_mode": {
    "name": "ipython",
    "version": 3
   },
   "file_extension": ".py",
   "mimetype": "text/x-python",
   "name": "python",
   "nbconvert_exporter": "python",
   "pygments_lexer": "ipython3",
   "version": "3.8.5"
  }
 },
 "nbformat": 4,
 "nbformat_minor": 4
}
