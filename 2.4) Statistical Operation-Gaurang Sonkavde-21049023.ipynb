{
 "cells": [
  {
   "cell_type": "markdown",
   "metadata": {},
   "source": [
    "## Name - Gaurang Vivek Sonkavde\n",
    "\n",
    "## Class - M.Tech AI-ML\n",
    "\n",
    "## PRN Number - 21070149023 \n",
    "\n",
    "## Subject - Unsupervised Learning"
   ]
  },
  {
   "cell_type": "markdown",
   "metadata": {},
   "source": [
    "# Statistical Operations"
   ]
  },
  {
   "cell_type": "markdown",
   "metadata": {},
   "source": [
    "### String Reversal"
   ]
  },
  {
   "cell_type": "code",
   "execution_count": 3,
   "metadata": {},
   "outputs": [
    {
     "name": "stdout",
     "output_type": "stream",
     "text": [
      "enter the string: Symbiosis\n",
      "The reversed string is : sisoibmyS\n"
     ]
    }
   ],
   "source": [
    "str = input(\"enter the string: \")\n",
    "reverse_str = \"\"\n",
    "count = len(str)\n",
    "while count > 0:\n",
    "    reverse_str += str[ count - 1 ]\n",
    "    count = count - 1\n",
    "print(f\"The reversed string is : {reverse_str}\")"
   ]
  },
  {
   "cell_type": "markdown",
   "metadata": {},
   "source": [
    "### Greatest No Comparison"
   ]
  },
  {
   "cell_type": "code",
   "execution_count": 4,
   "metadata": {},
   "outputs": [
    {
     "name": "stdout",
     "output_type": "stream",
     "text": [
      "Enter First Value : 54\n",
      "Enter Second Value :75\n",
      "B is greater than A\n"
     ]
    }
   ],
   "source": [
    "a = int(input(\"Enter First Value : \"))\n",
    "b = int(input(\"Enter Second Value :\"))\n",
    "if b>a:\n",
    "  print(\"B is greater than A\")\n",
    "elif b==a:\n",
    "  print(\"B is equal to A\")\n",
    "else:\n",
    "  print(\"A is greater than B\")"
   ]
  },
  {
   "cell_type": "markdown",
   "metadata": {},
   "source": [
    "### Find out Minimum Number"
   ]
  },
  {
   "cell_type": "code",
   "execution_count": 5,
   "metadata": {},
   "outputs": [
    {
     "name": "stdout",
     "output_type": "stream",
     "text": [
      "enter first digit : 85\n",
      "enter second digit : 12\n",
      "enter third digit : 09\n",
      "enter fourth digit : 796\n",
      "enter fifth digit : 3\n",
      "The least of 5 numbers is 3\n"
     ]
    }
   ],
   "source": [
    "a = int(input(\"enter first digit : \"))\n",
    "b = int(input(\"enter second digit : \"))\n",
    "c = int(input(\"enter third digit : \"))\n",
    "d = int(input(\"enter fourth digit : \"))\n",
    "e = int(input(\"enter fifth digit : \"))\n",
    "minimum = min(a,b,c,d,e)\n",
    "print(f\"The least of 5 numbers is {minimum}\")"
   ]
  },
  {
   "cell_type": "markdown",
   "metadata": {},
   "source": [
    "### List of unique Values"
   ]
  },
  {
   "cell_type": "code",
   "execution_count": 6,
   "metadata": {},
   "outputs": [],
   "source": [
    "def unique_elements_list(numbers):\n",
    "    unique_list = []\n",
    "    for num in numbers:\n",
    "        if num not in unique_list:\n",
    "            unique_list.append(num)\n",
    "    return unique_list"
   ]
  },
  {
   "cell_type": "code",
   "execution_count": 7,
   "metadata": {},
   "outputs": [
    {
     "name": "stdout",
     "output_type": "stream",
     "text": [
      "[45, 1, 2, 8, 4, 6, 7]\n"
     ]
    }
   ],
   "source": [
    "print(unique_elements_list([45,1,2,8,4,6,8,7,4]))"
   ]
  },
  {
   "cell_type": "markdown",
   "metadata": {},
   "source": [
    "### Calculate factorial of a Number"
   ]
  },
  {
   "cell_type": "code",
   "execution_count": 9,
   "metadata": {},
   "outputs": [
    {
     "name": "stdout",
     "output_type": "stream",
     "text": [
      "Factorial of 8 is 40320\n"
     ]
    }
   ],
   "source": [
    "def factorial(n):\n",
    "    if n < 0:\n",
    "        return 0\n",
    "    elif n == 0 or n == 1:\n",
    "        return 1\n",
    "    else:\n",
    "        fact = 1\n",
    "        while(n > 1):\n",
    "            fact *= n\n",
    "            n -=1\n",
    "        return fact\n",
    "    \n",
    "num = 8;\n",
    "print(\"Factorial of\",num,\"is\", \n",
    "factorial(num))"
   ]
  },
  {
   "cell_type": "code",
   "execution_count": null,
   "metadata": {},
   "outputs": [],
   "source": []
  }
 ],
 "metadata": {
  "kernelspec": {
   "display_name": "Python 3",
   "language": "python",
   "name": "python3"
  },
  "language_info": {
   "codemirror_mode": {
    "name": "ipython",
    "version": 3
   },
   "file_extension": ".py",
   "mimetype": "text/x-python",
   "name": "python",
   "nbconvert_exporter": "python",
   "pygments_lexer": "ipython3",
   "version": "3.8.5"
  }
 },
 "nbformat": 4,
 "nbformat_minor": 4
}
